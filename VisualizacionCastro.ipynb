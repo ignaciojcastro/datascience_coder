{
  "nbformat": 4,
  "nbformat_minor": 0,
  "metadata": {
    "colab": {
      "name": "VisualizacionCastro.ipynb",
      "provenance": [],
      "collapsed_sections": []
    },
    "kernelspec": {
      "name": "python3",
      "display_name": "Python 3"
    },
    "language_info": {
      "name": "python"
    }
  },
  "cells": [
    {
      "cell_type": "code",
      "execution_count": null,
      "metadata": {
        "id": "v38n3S_91yu8",
        "colab": {
          "base_uri": "https://localhost:8080/"
        },
        "outputId": "f4ce7ca7-128b-48de-85ee-5ff2b3d53693"
      },
      "outputs": [
        {
          "output_type": "stream",
          "name": "stdout",
          "text": [
            "Mounted at /content/drive\n"
          ]
        }
      ],
      "source": [
        "#conexion  a google drive\n",
        "from google.colab import drive\n",
        "drive.mount('/content/drive')"
      ]
    },
    {
      "cell_type": "code",
      "source": [
        "import pandas as pd\n",
        "import seaborn as sns\n"
      ],
      "metadata": {
        "id": "w8iU19eCuPx3"
      },
      "execution_count": null,
      "outputs": []
    },
    {
      "cell_type": "code",
      "source": [
        "#consigna 1\n",
        "df = pd.read_csv('/content/drive/MyDrive/HRDataset_v14.csv')\n",
        "df.describe()"
      ],
      "metadata": {
        "colab": {
          "base_uri": "https://localhost:8080/",
          "height": 364
        },
        "id": "oXaQsLeRvhX4",
        "outputId": "a92bca36-02be-4d24-8918-8a073df441d3"
      },
      "execution_count": null,
      "outputs": [
        {
          "output_type": "execute_result",
          "data": {
            "text/html": [
              "\n",
              "  <div id=\"df-59595799-9de9-4e7d-bcb4-0fe4aec62295\">\n",
              "    <div class=\"colab-df-container\">\n",
              "      <div>\n",
              "<style scoped>\n",
              "    .dataframe tbody tr th:only-of-type {\n",
              "        vertical-align: middle;\n",
              "    }\n",
              "\n",
              "    .dataframe tbody tr th {\n",
              "        vertical-align: top;\n",
              "    }\n",
              "\n",
              "    .dataframe thead th {\n",
              "        text-align: right;\n",
              "    }\n",
              "</style>\n",
              "<table border=\"1\" class=\"dataframe\">\n",
              "  <thead>\n",
              "    <tr style=\"text-align: right;\">\n",
              "      <th></th>\n",
              "      <th>EmpID</th>\n",
              "      <th>MarriedID</th>\n",
              "      <th>MaritalStatusID</th>\n",
              "      <th>GenderID</th>\n",
              "      <th>EmpStatusID</th>\n",
              "      <th>DeptID</th>\n",
              "      <th>PerfScoreID</th>\n",
              "      <th>FromDiversityJobFairID</th>\n",
              "      <th>Salary</th>\n",
              "      <th>Termd</th>\n",
              "      <th>PositionID</th>\n",
              "      <th>Zip</th>\n",
              "      <th>ManagerID</th>\n",
              "      <th>EngagementSurvey</th>\n",
              "      <th>EmpSatisfaction</th>\n",
              "      <th>SpecialProjectsCount</th>\n",
              "      <th>DaysLateLast30</th>\n",
              "      <th>Absences</th>\n",
              "    </tr>\n",
              "  </thead>\n",
              "  <tbody>\n",
              "    <tr>\n",
              "      <th>count</th>\n",
              "      <td>311.000000</td>\n",
              "      <td>311.000000</td>\n",
              "      <td>311.000000</td>\n",
              "      <td>311.000000</td>\n",
              "      <td>311.000000</td>\n",
              "      <td>311.000000</td>\n",
              "      <td>311.000000</td>\n",
              "      <td>311.000000</td>\n",
              "      <td>311.000000</td>\n",
              "      <td>311.000000</td>\n",
              "      <td>311.000000</td>\n",
              "      <td>311.000000</td>\n",
              "      <td>303.000000</td>\n",
              "      <td>311.000000</td>\n",
              "      <td>311.000000</td>\n",
              "      <td>311.000000</td>\n",
              "      <td>311.000000</td>\n",
              "      <td>311.000000</td>\n",
              "    </tr>\n",
              "    <tr>\n",
              "      <th>mean</th>\n",
              "      <td>10156.000000</td>\n",
              "      <td>0.398714</td>\n",
              "      <td>0.810289</td>\n",
              "      <td>0.434084</td>\n",
              "      <td>2.392283</td>\n",
              "      <td>4.610932</td>\n",
              "      <td>2.977492</td>\n",
              "      <td>0.093248</td>\n",
              "      <td>69020.684887</td>\n",
              "      <td>0.334405</td>\n",
              "      <td>16.845659</td>\n",
              "      <td>6555.482315</td>\n",
              "      <td>14.570957</td>\n",
              "      <td>4.110000</td>\n",
              "      <td>3.890675</td>\n",
              "      <td>1.218650</td>\n",
              "      <td>0.414791</td>\n",
              "      <td>10.237942</td>\n",
              "    </tr>\n",
              "    <tr>\n",
              "      <th>std</th>\n",
              "      <td>89.922189</td>\n",
              "      <td>0.490423</td>\n",
              "      <td>0.943239</td>\n",
              "      <td>0.496435</td>\n",
              "      <td>1.794383</td>\n",
              "      <td>1.083487</td>\n",
              "      <td>0.587072</td>\n",
              "      <td>0.291248</td>\n",
              "      <td>25156.636930</td>\n",
              "      <td>0.472542</td>\n",
              "      <td>6.223419</td>\n",
              "      <td>16908.396884</td>\n",
              "      <td>8.078306</td>\n",
              "      <td>0.789938</td>\n",
              "      <td>0.909241</td>\n",
              "      <td>2.349421</td>\n",
              "      <td>1.294519</td>\n",
              "      <td>5.852596</td>\n",
              "    </tr>\n",
              "    <tr>\n",
              "      <th>min</th>\n",
              "      <td>10001.000000</td>\n",
              "      <td>0.000000</td>\n",
              "      <td>0.000000</td>\n",
              "      <td>0.000000</td>\n",
              "      <td>1.000000</td>\n",
              "      <td>1.000000</td>\n",
              "      <td>1.000000</td>\n",
              "      <td>0.000000</td>\n",
              "      <td>45046.000000</td>\n",
              "      <td>0.000000</td>\n",
              "      <td>1.000000</td>\n",
              "      <td>1013.000000</td>\n",
              "      <td>1.000000</td>\n",
              "      <td>1.120000</td>\n",
              "      <td>1.000000</td>\n",
              "      <td>0.000000</td>\n",
              "      <td>0.000000</td>\n",
              "      <td>1.000000</td>\n",
              "    </tr>\n",
              "    <tr>\n",
              "      <th>25%</th>\n",
              "      <td>10078.500000</td>\n",
              "      <td>0.000000</td>\n",
              "      <td>0.000000</td>\n",
              "      <td>0.000000</td>\n",
              "      <td>1.000000</td>\n",
              "      <td>5.000000</td>\n",
              "      <td>3.000000</td>\n",
              "      <td>0.000000</td>\n",
              "      <td>55501.500000</td>\n",
              "      <td>0.000000</td>\n",
              "      <td>18.000000</td>\n",
              "      <td>1901.500000</td>\n",
              "      <td>10.000000</td>\n",
              "      <td>3.690000</td>\n",
              "      <td>3.000000</td>\n",
              "      <td>0.000000</td>\n",
              "      <td>0.000000</td>\n",
              "      <td>5.000000</td>\n",
              "    </tr>\n",
              "    <tr>\n",
              "      <th>50%</th>\n",
              "      <td>10156.000000</td>\n",
              "      <td>0.000000</td>\n",
              "      <td>1.000000</td>\n",
              "      <td>0.000000</td>\n",
              "      <td>1.000000</td>\n",
              "      <td>5.000000</td>\n",
              "      <td>3.000000</td>\n",
              "      <td>0.000000</td>\n",
              "      <td>62810.000000</td>\n",
              "      <td>0.000000</td>\n",
              "      <td>19.000000</td>\n",
              "      <td>2132.000000</td>\n",
              "      <td>15.000000</td>\n",
              "      <td>4.280000</td>\n",
              "      <td>4.000000</td>\n",
              "      <td>0.000000</td>\n",
              "      <td>0.000000</td>\n",
              "      <td>10.000000</td>\n",
              "    </tr>\n",
              "    <tr>\n",
              "      <th>75%</th>\n",
              "      <td>10233.500000</td>\n",
              "      <td>1.000000</td>\n",
              "      <td>1.000000</td>\n",
              "      <td>1.000000</td>\n",
              "      <td>5.000000</td>\n",
              "      <td>5.000000</td>\n",
              "      <td>3.000000</td>\n",
              "      <td>0.000000</td>\n",
              "      <td>72036.000000</td>\n",
              "      <td>1.000000</td>\n",
              "      <td>20.000000</td>\n",
              "      <td>2355.000000</td>\n",
              "      <td>19.000000</td>\n",
              "      <td>4.700000</td>\n",
              "      <td>5.000000</td>\n",
              "      <td>0.000000</td>\n",
              "      <td>0.000000</td>\n",
              "      <td>15.000000</td>\n",
              "    </tr>\n",
              "    <tr>\n",
              "      <th>max</th>\n",
              "      <td>10311.000000</td>\n",
              "      <td>1.000000</td>\n",
              "      <td>4.000000</td>\n",
              "      <td>1.000000</td>\n",
              "      <td>5.000000</td>\n",
              "      <td>6.000000</td>\n",
              "      <td>4.000000</td>\n",
              "      <td>1.000000</td>\n",
              "      <td>250000.000000</td>\n",
              "      <td>1.000000</td>\n",
              "      <td>30.000000</td>\n",
              "      <td>98052.000000</td>\n",
              "      <td>39.000000</td>\n",
              "      <td>5.000000</td>\n",
              "      <td>5.000000</td>\n",
              "      <td>8.000000</td>\n",
              "      <td>6.000000</td>\n",
              "      <td>20.000000</td>\n",
              "    </tr>\n",
              "  </tbody>\n",
              "</table>\n",
              "</div>\n",
              "      <button class=\"colab-df-convert\" onclick=\"convertToInteractive('df-59595799-9de9-4e7d-bcb4-0fe4aec62295')\"\n",
              "              title=\"Convert this dataframe to an interactive table.\"\n",
              "              style=\"display:none;\">\n",
              "        \n",
              "  <svg xmlns=\"http://www.w3.org/2000/svg\" height=\"24px\"viewBox=\"0 0 24 24\"\n",
              "       width=\"24px\">\n",
              "    <path d=\"M0 0h24v24H0V0z\" fill=\"none\"/>\n",
              "    <path d=\"M18.56 5.44l.94 2.06.94-2.06 2.06-.94-2.06-.94-.94-2.06-.94 2.06-2.06.94zm-11 1L8.5 8.5l.94-2.06 2.06-.94-2.06-.94L8.5 2.5l-.94 2.06-2.06.94zm10 10l.94 2.06.94-2.06 2.06-.94-2.06-.94-.94-2.06-.94 2.06-2.06.94z\"/><path d=\"M17.41 7.96l-1.37-1.37c-.4-.4-.92-.59-1.43-.59-.52 0-1.04.2-1.43.59L10.3 9.45l-7.72 7.72c-.78.78-.78 2.05 0 2.83L4 21.41c.39.39.9.59 1.41.59.51 0 1.02-.2 1.41-.59l7.78-7.78 2.81-2.81c.8-.78.8-2.07 0-2.86zM5.41 20L4 18.59l7.72-7.72 1.47 1.35L5.41 20z\"/>\n",
              "  </svg>\n",
              "      </button>\n",
              "      \n",
              "  <style>\n",
              "    .colab-df-container {\n",
              "      display:flex;\n",
              "      flex-wrap:wrap;\n",
              "      gap: 12px;\n",
              "    }\n",
              "\n",
              "    .colab-df-convert {\n",
              "      background-color: #E8F0FE;\n",
              "      border: none;\n",
              "      border-radius: 50%;\n",
              "      cursor: pointer;\n",
              "      display: none;\n",
              "      fill: #1967D2;\n",
              "      height: 32px;\n",
              "      padding: 0 0 0 0;\n",
              "      width: 32px;\n",
              "    }\n",
              "\n",
              "    .colab-df-convert:hover {\n",
              "      background-color: #E2EBFA;\n",
              "      box-shadow: 0px 1px 2px rgba(60, 64, 67, 0.3), 0px 1px 3px 1px rgba(60, 64, 67, 0.15);\n",
              "      fill: #174EA6;\n",
              "    }\n",
              "\n",
              "    [theme=dark] .colab-df-convert {\n",
              "      background-color: #3B4455;\n",
              "      fill: #D2E3FC;\n",
              "    }\n",
              "\n",
              "    [theme=dark] .colab-df-convert:hover {\n",
              "      background-color: #434B5C;\n",
              "      box-shadow: 0px 1px 3px 1px rgba(0, 0, 0, 0.15);\n",
              "      filter: drop-shadow(0px 1px 2px rgba(0, 0, 0, 0.3));\n",
              "      fill: #FFFFFF;\n",
              "    }\n",
              "  </style>\n",
              "\n",
              "      <script>\n",
              "        const buttonEl =\n",
              "          document.querySelector('#df-59595799-9de9-4e7d-bcb4-0fe4aec62295 button.colab-df-convert');\n",
              "        buttonEl.style.display =\n",
              "          google.colab.kernel.accessAllowed ? 'block' : 'none';\n",
              "\n",
              "        async function convertToInteractive(key) {\n",
              "          const element = document.querySelector('#df-59595799-9de9-4e7d-bcb4-0fe4aec62295');\n",
              "          const dataTable =\n",
              "            await google.colab.kernel.invokeFunction('convertToInteractive',\n",
              "                                                     [key], {});\n",
              "          if (!dataTable) return;\n",
              "\n",
              "          const docLinkHtml = 'Like what you see? Visit the ' +\n",
              "            '<a target=\"_blank\" href=https://colab.research.google.com/notebooks/data_table.ipynb>data table notebook</a>'\n",
              "            + ' to learn more about interactive tables.';\n",
              "          element.innerHTML = '';\n",
              "          dataTable['output_type'] = 'display_data';\n",
              "          await google.colab.output.renderOutput(dataTable, element);\n",
              "          const docLink = document.createElement('div');\n",
              "          docLink.innerHTML = docLinkHtml;\n",
              "          element.appendChild(docLink);\n",
              "        }\n",
              "      </script>\n",
              "    </div>\n",
              "  </div>\n",
              "  "
            ],
            "text/plain": [
              "              EmpID   MarriedID  ...  DaysLateLast30    Absences\n",
              "count    311.000000  311.000000  ...      311.000000  311.000000\n",
              "mean   10156.000000    0.398714  ...        0.414791   10.237942\n",
              "std       89.922189    0.490423  ...        1.294519    5.852596\n",
              "min    10001.000000    0.000000  ...        0.000000    1.000000\n",
              "25%    10078.500000    0.000000  ...        0.000000    5.000000\n",
              "50%    10156.000000    0.000000  ...        0.000000   10.000000\n",
              "75%    10233.500000    1.000000  ...        0.000000   15.000000\n",
              "max    10311.000000    1.000000  ...        6.000000   20.000000\n",
              "\n",
              "[8 rows x 18 columns]"
            ]
          },
          "metadata": {},
          "execution_count": 23
        }
      ]
    },
    {
      "cell_type": "code",
      "source": [
        "#consigna 2\n",
        "histplot_salary = sns.histplot(data=df, x=\"Salary\",bins=[30000,50000,75000,100000,125000,150000,175000,200000,225000,250000])\n",
        "histplot_salary.set(xlabel='Intervalos de salarios', ylabel='Frecuencia absoluta',title='Histograma de salarios segun genero')"
      ],
      "metadata": {
        "colab": {
          "base_uri": "https://localhost:8080/",
          "height": 407
        },
        "id": "spHLkutBHLt-",
        "outputId": "144d9991-234d-4252-e8fa-219c70e01256"
      },
      "execution_count": null,
      "outputs": [
        {
          "output_type": "execute_result",
          "data": {
            "text/plain": [
              "[Text(0, 0.5, 'Frecuencia absoluta'),\n",
              " Text(0.5, 0, 'Intervalos de salarios'),\n",
              " Text(0.5, 1.0, 'Histograma de salarios segun genero')]"
            ]
          },
          "metadata": {},
          "execution_count": 24
        },
        {
          "output_type": "display_data",
          "data": {
            "image/png": "[encoded data removed]",
            "text/plain": [
              "<Figure size 720x360 with 1 Axes>"
            ]
          },
          "metadata": {}
        }
      ]
    },
    {
      "cell_type": "markdown",
      "source": [
        "Los rangos de salarios mas populares son 50000-75000. Mucha gente gana poco y poca gente gana mucho"
      ],
      "metadata": {
        "id": "PgGm9wIEJrGE"
      }
    },
    {
      "cell_type": "code",
      "source": [
        "#consigna 3\n",
        "sns.violinplot(x= df.Sex, y= df.Salary)\n",
        "ax.set(xlabel='Genero', ylabel='Salario',title='Distribucion de salarios segun genero')"
      ],
      "metadata": {
        "id": "IjcUwN8tJ5sd",
        "colab": {
          "base_uri": "https://localhost:8080/",
          "height": 391
        },
        "outputId": "bd0119d5-c766-43d8-fc9b-ee0d86df5299"
      },
      "execution_count": null,
      "outputs": [
        {
          "output_type": "execute_result",
          "data": {
            "text/plain": [
              "[Text(20.199999999999996, 0.5, 'Salario'),\n",
              " Text(0.5, 20.200000000000003, 'Genero'),\n",
              " Text(0.5, 1.0, 'Distribucion de salarios segun genero')]"
            ]
          },
          "metadata": {},
          "execution_count": 28
        },
        {
          "output_type": "display_data",
          "data": {
            "image/png": "[encoded data removed]",
            "text/plain": [
              "<Figure size 720x360 with 1 Axes>"
            ]
          },
          "metadata": {}
        }
      ]
    },
    {
      "cell_type": "code",
      "source": [
        "#consigna 3\n",
        "df = pd.read_csv('/content/drive/MyDrive/HRDataset_v14.csv')\n",
        "df['aux'] = 'Employee'\n",
        "ax = sns.catplot(kind='violin',y='Salary',x='aux',hue='Sex',split=True,data=df, height=6, aspect=1.2)\n",
        "ax.set(xlabel=None, ylabel='Salary',title='Salary distribution by gender')"
      ],
      "metadata": {
        "colab": {
          "base_uri": "https://localhost:8080/",
          "height": 235
        },
        "id": "9YllnWWSlpsy",
        "outputId": "3411309c-7d15-4b65-e5c2-bfc2b721d9b8"
      },
      "execution_count": null,
      "outputs": [
        {
          "output_type": "error",
          "ename": "NameError",
          "evalue": "ignored",
          "traceback": [
            "\u001b[0;31m---------------------------------------------------------------------------\u001b[0m",
            "\u001b[0;31mNameError\u001b[0m                                 Traceback (most recent call last)",
            "\u001b[0;32m<ipython-input-1-cc048cc4b87f>\u001b[0m in \u001b[0;36m<module>\u001b[0;34m()\u001b[0m\n\u001b[1;32m      1\u001b[0m \u001b[0;31m#consigna 3\u001b[0m\u001b[0;34m\u001b[0m\u001b[0;34m\u001b[0m\u001b[0;34m\u001b[0m\u001b[0m\n\u001b[0;32m----> 2\u001b[0;31m \u001b[0mdf\u001b[0m \u001b[0;34m=\u001b[0m \u001b[0mpd\u001b[0m\u001b[0;34m.\u001b[0m\u001b[0mread_csv\u001b[0m\u001b[0;34m(\u001b[0m\u001b[0;34m'/content/drive/MyDrive/HRDataset_v14.csv'\u001b[0m\u001b[0;34m)\u001b[0m\u001b[0;34m\u001b[0m\u001b[0;34m\u001b[0m\u001b[0m\n\u001b[0m\u001b[1;32m      3\u001b[0m \u001b[0mdf\u001b[0m\u001b[0;34m[\u001b[0m\u001b[0;34m'aux'\u001b[0m\u001b[0;34m]\u001b[0m \u001b[0;34m=\u001b[0m \u001b[0;34m'Employee'\u001b[0m\u001b[0;34m\u001b[0m\u001b[0;34m\u001b[0m\u001b[0m\n\u001b[1;32m      4\u001b[0m \u001b[0max\u001b[0m \u001b[0;34m=\u001b[0m \u001b[0msns\u001b[0m\u001b[0;34m.\u001b[0m\u001b[0mcatplot\u001b[0m\u001b[0;34m(\u001b[0m\u001b[0mkind\u001b[0m\u001b[0;34m=\u001b[0m\u001b[0;34m'violin'\u001b[0m\u001b[0;34m,\u001b[0m\u001b[0my\u001b[0m\u001b[0;34m=\u001b[0m\u001b[0;34m'Salary'\u001b[0m\u001b[0;34m,\u001b[0m\u001b[0mx\u001b[0m\u001b[0;34m=\u001b[0m\u001b[0;34m'aux'\u001b[0m\u001b[0;34m,\u001b[0m\u001b[0mhue\u001b[0m\u001b[0;34m=\u001b[0m\u001b[0;34m'Sex'\u001b[0m\u001b[0;34m,\u001b[0m\u001b[0msplit\u001b[0m\u001b[0;34m=\u001b[0m\u001b[0;32mTrue\u001b[0m\u001b[0;34m,\u001b[0m\u001b[0mdata\u001b[0m\u001b[0;34m=\u001b[0m\u001b[0mdf\u001b[0m\u001b[0;34m,\u001b[0m \u001b[0mheight\u001b[0m\u001b[0;34m=\u001b[0m\u001b[0;36m6\u001b[0m\u001b[0;34m,\u001b[0m \u001b[0maspect\u001b[0m\u001b[0;34m=\u001b[0m\u001b[0;36m1.2\u001b[0m\u001b[0;34m)\u001b[0m\u001b[0;34m\u001b[0m\u001b[0;34m\u001b[0m\u001b[0m\n\u001b[1;32m      5\u001b[0m \u001b[0max\u001b[0m\u001b[0;34m.\u001b[0m\u001b[0mset\u001b[0m\u001b[0;34m(\u001b[0m\u001b[0mxlabel\u001b[0m\u001b[0;34m=\u001b[0m\u001b[0;32mNone\u001b[0m\u001b[0;34m,\u001b[0m \u001b[0mylabel\u001b[0m\u001b[0;34m=\u001b[0m\u001b[0;34m'Salary'\u001b[0m\u001b[0;34m,\u001b[0m\u001b[0mtitle\u001b[0m\u001b[0;34m=\u001b[0m\u001b[0;34m'Salary distribution by gender'\u001b[0m\u001b[0;34m)\u001b[0m\u001b[0;34m\u001b[0m\u001b[0;34m\u001b[0m\u001b[0m\n",
            "\u001b[0;31mNameError\u001b[0m: name 'pd' is not defined"
          ]
        }
      ]
    },
    {
      "cell_type": "markdown",
      "source": [
        "Presento dos formas de hacer el violinplot, aunque en este caso tal vez no se aprecie muy bien la diferencia en los rangos de salarios mas altos, en algunos casos puede ser util"
      ],
      "metadata": {
        "id": "J4lTJlfGludx"
      }
    },
    {
      "cell_type": "code",
      "source": [
        "#Consigna 4\n",
        "df = pd.read_csv('/content/drive/MyDrive/HRDataset_v14.csv')\n",
        "df['DateofHire'] = pd.to_datetime(df['DateofHire']).dt.year\n",
        "df1 = df.groupby(['DateofHire']).size().reset_index(name = 'CountofHiring')\n",
        "df1.set_index('DateofHire')\n",
        "ax= sns.lineplot(data=df1, x ='DateofHire', y='CountofHiring')\n",
        "ax.set(xlabel='Year', ylabel='Count of hiring',title='Hirings by year')\n",
        "sns.set(rc = {'figure.figsize':(10,5)})"
      ],
      "metadata": {
        "colab": {
          "base_uri": "https://localhost:8080/",
          "height": 355
        },
        "id": "xIKaACIlSnyB",
        "outputId": "8e259f75-9476-4d8d-fb00-7f0ddc5d172f"
      },
      "execution_count": null,
      "outputs": [
        {
          "output_type": "display_data",
          "data": {
            "image/png": "[encoded data removed]",
            "text/plain": [
              "<Figure size 720x360 with 1 Axes>"
            ]
          },
          "metadata": {}
        }
      ]
    }
  ]
}