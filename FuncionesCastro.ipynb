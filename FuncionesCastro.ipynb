{
  "nbformat": 4,
  "nbformat_minor": 0,
  "metadata": {
    "colab": {
      "name": "FuncionesCastro.ipynb",
      "provenance": [],
      "collapsed_sections": []
    },
    "kernelspec": {
      "name": "python3",
      "display_name": "Python 3"
    },
    "language_info": {
      "name": "python"
    }
  },
  "cells": [
    {
      "cell_type": "code",
      "source": [
        "def factorial(a):\n",
        "    resultado = 1\n",
        "    num = 1\n",
        "    while num <= a:\n",
        "        resultado *= num\n",
        "        num += 1\n",
        "    print(\"El factorial de \", a, \"es\", resultado)\n",
        "\n",
        "factorial(0)\n",
        "\n",
        "factorial(1)\n",
        "\n",
        "factorial(3)\n",
        "\n",
        "factorial(5)\n",
        "\n",
        "factorial(7)"
      ],
      "metadata": {
        "id": "KhKPGAHqQQ7w",
        "colab": {
          "base_uri": "https://localhost:8080/"
        },
        "outputId": "8ff28c80-4549-4e08-9e79-bc55f5a5714b"
      },
      "execution_count": null,
      "outputs": [
        {
          "output_type": "stream",
          "name": "stdout",
          "text": [
            "El factorial de  0 es 1\n",
            "El factorial de  1 es 1\n",
            "El factorial de  3 es 6\n",
            "El factorial de  5 es 120\n",
            "El factorial de  7 es 5040\n"
          ]
        }
      ]
    },
    {
      "cell_type": "code",
      "source": [
        "def rango(a,b):\n",
        "  if b<a:\n",
        "    print(\"Error, introduzca un numero b mayor que \", a)\n",
        "  else:\n",
        "    serie = list(range(a,b+1,2))\n",
        "    suma = sum(serie)\n",
        "    print(serie)\n",
        "    print(\"La suma de la serie es \",suma)\n",
        "\n",
        "rango(50,20)\n",
        "rango(10,35)\n",
        "rango(45,55)"
      ],
      "metadata": {
        "colab": {
          "base_uri": "https://localhost:8080/"
        },
        "id": "MDsTc9ddM0_3",
        "outputId": "b7039dda-5ae4-44d5-e349-b73c19f38c0f"
      },
      "execution_count": null,
      "outputs": [
        {
          "output_type": "stream",
          "name": "stdout",
          "text": [
            "Error, introduzca un numero b mayor que  50\n",
            "[10, 12, 14, 16, 18, 20, 22, 24, 26, 28, 30, 32, 34]\n",
            "La suma de la serie es  286\n",
            "[45, 47, 49, 51, 53, 55]\n",
            "La suma de la serie es  300\n"
          ]
        }
      ]
    }
  ]
}