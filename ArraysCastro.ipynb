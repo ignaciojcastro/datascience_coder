{
  "cells": [
    {
      "cell_type": "code",
      "source": [
        "#consigna 1\n",
        "import numpy as np\n",
        "def serie(a, b, c):\n",
        "  array = np.random.randint(a, b+1, size = c)\n",
        "  print(array)\n",
        "  mediana = np.median(array)\n",
        "  print(\"La mediana es \", mediana)\n",
        "\n",
        "serie(2,50,20)\n",
        "\n",
        "serie(10,20,10)\n",
        "\n",
        "serie(5,25,3)"
      ],
      "metadata": {
        "colab": {
          "base_uri": "https://localhost:8080/"
        },
        "id": "JW-1SiFjyEFg",
        "outputId": "30e3f00d-4a8d-4c87-97b5-94e088849d83"
      },
      "execution_count": null,
      "outputs": [
        {
          "output_type": "stream",
          "name": "stdout",
          "text": [
            "[14 40 46 23  5  7 49 42 17  6 44 39 17 26 26 41 18  6 29 44]\n",
            "La mediana es  26.0\n",
            "[15 13 20 14 18 12 11 16 13 20]\n",
            "La mediana es  14.5\n",
            "[11 20 19]\n",
            "La mediana es  19.0\n"
          ]
        }
      ]
    },
    {
      "cell_type": "code",
      "source": [
        "#consigna 2\n",
        "print(\"Factorial\")\n",
        "\n",
        "import numpy as np\n",
        "def factorial(n):\n",
        "  print(\"El factorial de\", n, \"es\", int(np.prod(range(1,n+1))))\n",
        "\n",
        "factorial(4)\n",
        "\n",
        "factorial(0)\n",
        "\n",
        "print(\"Suma de serie\")\n",
        "import numpy as np\n",
        "def serie(a,b,c):\n",
        "  if b<a:\n",
        "    print(\"Error, introduzca un numero b mayor que \", a)\n",
        "  else:\n",
        "    serie = np.arange(a, b+1, c)\n",
        "    suma = serie.sum()\n",
        "    print(serie)\n",
        "    print(suma)\n",
        "\n",
        "serie(5,0,2)\n",
        "\n",
        "serie(2,10,1)"
      ],
      "metadata": {
        "id": "bkZIgt9a64Sn",
        "colab": {
          "base_uri": "https://localhost:8080/"
        },
        "outputId": "ebe09fe6-db00-4f61-bfd9-4597892567e5"
      },
      "execution_count": null,
      "outputs": [
        {
          "output_type": "stream",
          "name": "stdout",
          "text": [
            "Factorial\n",
            "El factorial de 4 es 24\n",
            "El factorial de 0 es 1\n",
            "Suma de serie\n",
            "Error, introduzca un numero b mayor que  5\n",
            "[ 2  3  4  5  6  7  8  9 10]\n",
            "54\n"
          ]
        }
      ]
    },
    {
      "cell_type": "code",
      "source": [
        "#conexion  a google drive\n",
        "from google.colab import drive\n",
        "drive.mount('/content/drive')"
      ],
      "metadata": {
        "id": "xBx8PVmiSed_",
        "colab": {
          "base_uri": "https://localhost:8080/"
        },
        "outputId": "e7adc724-d122-4770-b8f3-7613b1e344d0"
      },
      "execution_count": null,
      "outputs": [
        {
          "output_type": "stream",
          "name": "stdout",
          "text": [
            "Drive already mounted at /content/drive; to attempt to forcibly remount, call drive.mount(\"/content/drive\", force_remount=True).\n"
          ]
        }
      ]
    },
    {
      "cell_type": "code",
      "source": [
        "#consigna 3\n",
        "import pandas as pd\n",
        "import numpy as np\n",
        "documento = pd.read_excel('/content/drive/MyDrive/Salarios Openqube.xlsx')\n",
        "data = (documento['Salario mensual NETO (en tu moneda local)'])\n",
        "serie = pd.Series(data)\n",
        "serie.fillna(0, inplace=True)\n",
        "mediana = np.median(serie)\n",
        "media = serie.mean()\n",
        "print(\"\"\"\n",
        "    Media: %d\n",
        "    Mediana: %d\n",
        "\"\"\" % (media,mediana))"
      ],
      "metadata": {
        "colab": {
          "base_uri": "https://localhost:8080/"
        },
        "id": "049pq1NsOkp3",
        "outputId": "21336477-50bc-49b7-f098-6e42303cd529"
      },
      "execution_count": null,
      "outputs": [
        {
          "output_type": "stream",
          "name": "stdout",
          "text": [
            "\n",
            "    Media: 18656271\n",
            "    Mediana: 75000\n",
            "\n"
          ]
        }
      ]
    }
  ],
  "metadata": {
    "colab": {
      "name": "ArraysCastro.ipynb",
      "provenance": [],
      "collapsed_sections": []
    },
    "kernelspec": {
      "display_name": "Python 3",
      "name": "python3"
    },
    "language_info": {
      "name": "python"
    }
  },
  "nbformat": 4,
  "nbformat_minor": 0
}